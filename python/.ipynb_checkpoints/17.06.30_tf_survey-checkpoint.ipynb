{
 "cells": [
  {
   "cell_type": "markdown",
   "metadata": {},
   "source": [
    "# Notebook 5: Transcription factor binding sites in *Escherichia coli*\n",
    "\n",
    "### by Justin B. Kinney"
   ]
  },
  {
   "cell_type": "markdown",
   "metadata": {},
   "source": [
    "In this example, we will practice downloading a small biological dataset from the internet and analyzing it. "
   ]
  },
  {
   "cell_type": "markdown",
   "metadata": {},
   "source": [
    "Specifically, we will analyse the DNA sequences of CRP binding sites. CRP is a transcription factor (TF) of the bacterium *Escherichia coli*. CRP is one of the most pleiotropic *E. coli* transcriptio factor, with over 350 functional binding sites throughout the bacterium's 4.6 Mb genome.  \n",
    "\n",
    "The most comprehensive databse of transcriptional regulation in *E. coli* database is RegulonDB, available at http://regulondb.ccg.unam.mx/. Let's go to this site to find out how we can access all CRP binding site...\n",
    "    \n",
    "Ok..., looks like the information we want can be found in the file http://regulondb.ccg.unam.mx/menu/download/datasets/files/BindingSiteSet.txt. First let's check to see how big the file is, to see if simply downloading it will work."
   ]
  },
  {
   "cell_type": "code",
   "execution_count": null,
   "metadata": {
    "collapsed": true
   },
   "outputs": [],
   "source": [
    "# Always put this first\n",
    "%matplotlib inline\n",
    "from __future__ import division\n",
    "import numpy as np\n",
    "import pandas as pd\n",
    "import matplotlib.pyplot as plt"
   ]
  },
  {
   "cell_type": "code",
   "execution_count": null,
   "metadata": {
    "collapsed": false
   },
   "outputs": [],
   "source": [
    "# Get information about remote file\n",
    "import urllib\n",
    "db_remote_file = \"http://regulondb.ccg.unam.mx/menu/download/datasets/files/BindingSiteSet.txt\"\n",
    "d = urllib.urlopen(db_remote_file)\n",
    "print d.info()"
   ]
  },
  {
   "cell_type": "markdown",
   "metadata": {},
   "source": [
    "Ah. Looks like the file is both current (April 2016) and small (~ 0.7MB). Let's download it."
   ]
  },
  {
   "cell_type": "code",
   "execution_count": null,
   "metadata": {
    "collapsed": false
   },
   "outputs": [],
   "source": [
    "# Download remote file\n",
    "db_local_file = \"binding_site_db.txt\"\n",
    "urllib.urlretrieve(db_remote_file, db_local_file)"
   ]
  },
  {
   "cell_type": "code",
   "execution_count": null,
   "metadata": {
    "collapsed": false
   },
   "outputs": [],
   "source": [
    "# Check that file downloaded\n",
    "# WARNING: might not work on Windows machines\n",
    "!ls -lah"
   ]
  },
  {
   "cell_type": "markdown",
   "metadata": {},
   "source": [
    "Now that we have the file, let's open it to see what it looks like"
   ]
  },
  {
   "cell_type": "code",
   "execution_count": null,
   "metadata": {
    "collapsed": false
   },
   "outputs": [],
   "source": [
    "# Open file with external program\n",
    "# WARNING: might not work on Windows machines\n",
    "!open binding_site_db.txt"
   ]
  },
  {
   "cell_type": "markdown",
   "metadata": {},
   "source": [
    "Ah, looks like we want lines that have \"CRP\" in the second column. First we need to know what the delimeter is. Let's load all lines and look at the last one. "
   ]
  },
  {
   "cell_type": "code",
   "execution_count": null,
   "metadata": {
    "collapsed": false
   },
   "outputs": [],
   "source": [
    "# Open file and load all lines into list\n",
    "f = open(db_local_file)\n",
    "lines = f.readlines()\n",
    "print len(lines)\n",
    "lines[-1]"
   ]
  },
  {
   "cell_type": "markdown",
   "metadata": {},
   "source": [
    "Ah, the file uses tabs. So the quickest thing that might work is to keep only lines that contain \"CRP\" with a tab character on either side. Let's try that"
   ]
  },
  {
   "cell_type": "code",
   "execution_count": null,
   "metadata": {
    "collapsed": false
   },
   "outputs": [],
   "source": [
    "# Get lines for CRP\n",
    "string_to_match = '\\tCRP\\t'\n",
    "lines_we_want = [l for l in lines if string_to_match in l]\n",
    "len(lines_we_want)"
   ]
  },
  {
   "cell_type": "markdown",
   "metadata": {},
   "source": [
    "Now we have a list of lines. Here are the first and last lines."
   ]
  },
  {
   "cell_type": "code",
   "execution_count": null,
   "metadata": {
    "collapsed": false
   },
   "outputs": [],
   "source": [
    "# Check first line and the last line\n",
    "print lines_we_want[1]\n",
    "print lines_we_want[-1]"
   ]
  },
  {
   "cell_type": "code",
   "execution_count": null,
   "metadata": {
    "collapsed": false
   },
   "outputs": [],
   "source": [
    "x = lines_we_want[-1]\n",
    "x.split('\\t')\n",
    "starts = [int(x.split('\\t')[3]) for x in lines_we_want]\n",
    "starts"
   ]
  },
  {
   "cell_type": "markdown",
   "metadata": {},
   "source": [
    "Looks like fields 3 and 4 contain the start and stop positions of sites. Get site coordinates"
   ]
  },
  {
   "cell_type": "code",
   "execution_count": null,
   "metadata": {
    "collapsed": false
   },
   "outputs": [],
   "source": [
    "# Get start,stop coordinate pairs for all sites\n",
    "starts = [int(x.split('\\t')[3]) for x in lines_we_want]\n",
    "stops = [int(x.split('\\t')[4]) for x in lines_we_want]\n",
    "coords = zip(starts,stops)\n",
    "coords"
   ]
  },
  {
   "cell_type": "code",
   "execution_count": null,
   "metadata": {
    "collapsed": false
   },
   "outputs": [],
   "source": [
    "# Oddly, there are some sites missing, and others might have variable length. Let's find these lengths\n",
    "site_lengths = [c[1]-c[0]+1 for c in coords]\n",
    "site_lengths"
   ]
  },
  {
   "cell_type": "code",
   "execution_count": null,
   "metadata": {
    "collapsed": false
   },
   "outputs": [],
   "source": [
    "# Let's figure out how many sites there are of each length\n",
    "length_dict = {}\n",
    "for l in site_lengths:\n",
    "    if l in length_dict.keys():\n",
    "        length_dict[l] += 1\n",
    "    else:\n",
    "        length_dict[l] = 1\n",
    "print length_dict"
   ]
  },
  {
   "cell_type": "code",
   "execution_count": null,
   "metadata": {
    "collapsed": false
   },
   "outputs": [],
   "source": [
    "# Grab coordinates corresponding to sites of length 22\n",
    "L = 22\n",
    "good_coords = [c for c in coords if c[1]-c[0]+1==L]\n",
    "print len(good_coords)"
   ]
  },
  {
   "cell_type": "code",
   "execution_count": null,
   "metadata": {
    "collapsed": false
   },
   "outputs": [],
   "source": [
    "# Now we have to load the E. coli genome, so that we can extract sites\n",
    "f = open(\"MG1655.fa\")\n",
    "genome_lines = f.readlines()\n",
    "genome_lines[:10]"
   ]
  },
  {
   "cell_type": "code",
   "execution_count": null,
   "metadata": {
    "collapsed": false
   },
   "outputs": [],
   "source": [
    "# Concatenate genome into one string\n",
    "genome = ''.join([l.strip() for l in genome_lines[1:]])\n",
    "print len(genome)\n",
    "print genome[:100]"
   ]
  },
  {
   "cell_type": "code",
   "execution_count": null,
   "metadata": {
    "collapsed": false
   },
   "outputs": [],
   "source": [
    "# Now grab all 22bp sites from the genome\n",
    "sites = [genome[start-1:stop] for start,stop in good_coords]\n",
    "print sites[:10]"
   ]
  },
  {
   "cell_type": "markdown",
   "metadata": {},
   "source": [
    "Now let's count how many times each base occurs at each position in this list. After a little thought we conclude that we want to do something like this:"
   ]
  },
  {
   "cell_type": "code",
   "execution_count": null,
   "metadata": {
    "collapsed": false
   },
   "outputs": [],
   "source": [
    "counts_matrix = np.zeros([L,4])\n",
    "bases = 'ACGT'\n",
    "for s in sites:\n",
    "    for i in range(L):\n",
    "        for b, base in enumerate(bases):\n",
    "            counts_matrix[i,b] += (s[i] == base)\n",
    "print counts_matrix"
   ]
  },
  {
   "cell_type": "markdown",
   "metadata": {},
   "source": [
    "Looks reasonable, but it would be nice to have a graphical representation of this."
   ]
  },
  {
   "cell_type": "code",
   "execution_count": null,
   "metadata": {
    "collapsed": false
   },
   "outputs": [],
   "source": [
    "plt.imshow(counts_matrix)\n",
    "plt.show()"
   ]
  },
  {
   "cell_type": "markdown",
   "metadata": {},
   "source": [
    "Hard to see. Flip this thing on it's side and make it bigger. Also, which colors mean what?"
   ]
  },
  {
   "cell_type": "code",
   "execution_count": null,
   "metadata": {
    "collapsed": false
   },
   "outputs": [],
   "source": [
    "plt.figure(figsize=[12,2])\n",
    "plt.imshow(counts_matrix.T,interpolation='nearest')\n",
    "plt.colorbar()\n",
    "plt.show()"
   ]
  },
  {
   "cell_type": "markdown",
   "metadata": {},
   "source": [
    "That's better, but it will still take some playing around with to make it pretty. It's all blurry, the y-axis labels are meaningless, etc.\n",
    "\n",
    "Just have to play around a while until you get something that looks presentable. Here's what I came up with. "
   ]
  },
  {
   "cell_type": "code",
   "execution_count": null,
   "metadata": {
    "collapsed": false
   },
   "outputs": [],
   "source": [
    "# Compute occurence frequency of each base at each position, not the total counts\n",
    "num_sites = len(sites)\n",
    "freq_matrix = counts_matrix.T/num_sites\n",
    "\n",
    "# Set plotting parameter\n",
    "figure_size = [12,3]\n",
    "label_size = 16\n",
    "title_size = 24\n",
    "colormap = plt.get_cmap('Greens')\n",
    "\n",
    "# Specify figure of proper size\n",
    "plt.figure(figsize=figure_size)\n",
    "\n",
    "# Show matrix without any smoothing\n",
    "plt.imshow(freq_matrix, interpolation='nearest', cmap=colormap)\n",
    "\n",
    "# Put interpretable letters on y-axis\n",
    "plt.yticks(range(4),['A','C','G','T'], fontsize=label_size)\n",
    "\n",
    "# Label positions symmetically\n",
    "positions = np.arange(L)-(L/2)+1\n",
    "indices = np.arange(0,L,5)\n",
    "plt.xticks(indices+.5, positions[indices], fontsize=label_size)\n",
    "\n",
    "# Fix colorbar\n",
    "plt.clim([0, 1])\n",
    "cbar = plt.colorbar(ticks=np.linspace(0,1,5))\n",
    "cbar.ax.tick_params(labelsize=label_size) \n",
    "\n",
    "# Draw a title\n",
    "plt.title('CRP base frequency matrix', fontsize=title_size)\n",
    "\n",
    "# Fix spacing in plot\n",
    "plt.tight_layout()\n",
    "\n",
    "# Save the figure\n",
    "picture_file = 'crp_matrix.png'\n",
    "plt.savefig(picture_file)\n",
    "\n",
    "# Draw the plot\n",
    "plt.show()\n",
    "\n"
   ]
  },
  {
   "cell_type": "markdown",
   "metadata": {},
   "source": [
    "Let's check to make sure this actually worked."
   ]
  },
  {
   "cell_type": "code",
   "execution_count": null,
   "metadata": {
    "collapsed": false
   },
   "outputs": [],
   "source": [
    "# WARNING: Might not work in Windows\n",
    "!open $picture_file"
   ]
  },
  {
   "cell_type": "markdown",
   "metadata": {},
   "source": [
    "We should also save a text file that has the base counts at each position, so we can remake plots like this whenever we want"
   ]
  },
  {
   "cell_type": "code",
   "execution_count": null,
   "metadata": {
    "collapsed": false
   },
   "outputs": [],
   "source": [
    "counts_matrix_file = 'crp_counts_matrix.txt'\n",
    "np.savetxt(counts_matrix_file,counts_matrix)"
   ]
  },
  {
   "cell_type": "code",
   "execution_count": null,
   "metadata": {
    "collapsed": false
   },
   "outputs": [],
   "source": [
    "# WARNING: Might not work in Windows\n",
    "!cat $counts_matrix_file"
   ]
  },
  {
   "cell_type": "markdown",
   "metadata": {},
   "source": [
    "This is hard for us humans to read. Let's change the text format so that we can eyeball this when we need to"
   ]
  },
  {
   "cell_type": "code",
   "execution_count": null,
   "metadata": {
    "collapsed": false
   },
   "outputs": [],
   "source": [
    "np.savetxt(counts_matrix_file,counts_matrix, fmt='%d', delimiter='\\t')"
   ]
  },
  {
   "cell_type": "code",
   "execution_count": null,
   "metadata": {
    "collapsed": false
   },
   "outputs": [],
   "source": [
    "# WARNING: Might not work in Windows\n",
    "!open $counts_matrix_file"
   ]
  },
  {
   "cell_type": "code",
   "execution_count": null,
   "metadata": {
    "collapsed": false
   },
   "outputs": [],
   "source": [
    "# Clean up files\n",
    "!rm binding_site_db.txt crp_matrix.png crp_counts_matrix.txt\n",
    "!ls"
   ]
  },
  {
   "cell_type": "markdown",
   "metadata": {},
   "source": [
    "We're done!"
   ]
  }
 ],
 "metadata": {
  "kernelspec": {
   "display_name": "Python 2",
   "language": "python",
   "name": "python2"
  },
  "language_info": {
   "codemirror_mode": {
    "name": "ipython",
    "version": 2
   },
   "file_extension": ".py",
   "mimetype": "text/x-python",
   "name": "python",
   "nbconvert_exporter": "python",
   "pygments_lexer": "ipython2",
   "version": "2.7.11"
  }
 },
 "nbformat": 4,
 "nbformat_minor": 0
}
