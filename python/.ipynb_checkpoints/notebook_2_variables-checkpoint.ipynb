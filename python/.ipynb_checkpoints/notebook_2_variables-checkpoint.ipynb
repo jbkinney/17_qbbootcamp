{
 "cells": [
  {
   "cell_type": "markdown",
   "metadata": {},
   "source": [
    "# Day 1: Introduction to Python 2.7 and the IPython Notebook\n",
    "\n",
    "### by Justin B. Kinney"
   ]
  },
  {
   "cell_type": "code",
   "execution_count": 1,
   "metadata": {
    "collapsed": false
   },
   "outputs": [
    {
     "name": "stdout",
     "output_type": "stream",
     "text": [
      "Hello World!\n"
     ]
    }
   ],
   "source": [
    "## A basic print command\n",
    "print \"Hello World!\""
   ]
  },
  {
   "cell_type": "code",
   "execution_count": 2,
   "metadata": {
    "collapsed": false
   },
   "outputs": [
    {
     "name": "stdout",
     "output_type": "stream",
     "text": [
      "Hello, Justin\n"
     ]
    }
   ],
   "source": [
    "## Printing with variables\n",
    "hi   = \"Hello, \"\n",
    "name = \"Justin\"\n",
    "print hi + name"
   ]
  },
  {
   "cell_type": "code",
   "execution_count": 3,
   "metadata": {
    "collapsed": false
   },
   "outputs": [
    {
     "name": "stdout",
     "output_type": "stream",
     "text": [
      "Hello, Mickey\n"
     ]
    }
   ],
   "source": [
    "## The advantage to variables is their value can be changed\n",
    "name = \"Mickey\"\n",
    "print hi + name"
   ]
  },
  {
   "cell_type": "code",
   "execution_count": 4,
   "metadata": {
    "collapsed": false
   },
   "outputs": [
    {
     "name": "stdout",
     "output_type": "stream",
     "text": [
      "Hello, Mickey and Justin\n"
     ]
    }
   ],
   "source": [
    "## You can also add strings together (concatenate)\n",
    "message = hi + name\n",
    "message += \" and Justin\"\n",
    "print message"
   ]
  },
  {
   "cell_type": "code",
   "execution_count": 5,
   "metadata": {
    "collapsed": false
   },
   "outputs": [
    {
     "name": "stdout",
     "output_type": "stream",
     "text": [
      "Pi is: 3.14159\n"
     ]
    }
   ],
   "source": [
    "## Notice you have to use str() to convert numbers to strings that can be printed\n",
    "pi = 3.14159\n",
    "print \"Pi is: \" + str(pi)"
   ]
  },
  {
   "cell_type": "code",
   "execution_count": 7,
   "metadata": {
    "collapsed": false
   },
   "outputs": [
    {
     "name": "stdout",
     "output_type": "stream",
     "text": [
      "Mickey, a circle with a radius of 1234.5678 has an area of: 4788278.44045\n"
     ]
    }
   ],
   "source": [
    "## its easy to do math in python\n",
    "radius = 1234.5678\n",
    "area = pi * (radius ** 2)\n",
    "\n",
    "## Print the results\n",
    "print name + \", a circle with a radius of \" + str(radius) + \" has an area of: \" + str(area)"
   ]
  },
  {
   "cell_type": "code",
   "execution_count": 8,
   "metadata": {
    "collapsed": false
   },
   "outputs": [
    {
     "name": "stdout",
     "output_type": "stream",
     "text": [
      "Enter a new radius: 45\n",
      "Mickey, a circle with a radius of 45.00 has an area of 6361.72 \n"
     ]
    }
   ],
   "source": [
    "## Easy to ask for a value\n",
    "radius = float(raw_input(\"Enter a new radius: \"))\n",
    "\n",
    "# Recompute area\n",
    "area = pi * (radius ** 2)\n",
    "\n",
    "## Print the values using 2 decimal places\n",
    "print \"%s, a circle with a radius of %.2f has an area of %.2f \" % (name, radius, area)"
   ]
  },
  {
   "cell_type": "code",
   "execution_count": 9,
   "metadata": {
    "collapsed": true
   },
   "outputs": [],
   "source": [
    "## Challenge: Ask the user for a radius and compute the volume of the correpsonding sphere. "
   ]
  },
  {
   "cell_type": "code",
   "execution_count": null,
   "metadata": {
    "collapsed": true
   },
   "outputs": [],
   "source": []
  }
 ],
 "metadata": {
  "kernelspec": {
   "display_name": "Python 2",
   "language": "python",
   "name": "python2"
  },
  "language_info": {
   "codemirror_mode": {
    "name": "ipython",
    "version": 2
   },
   "file_extension": ".py",
   "mimetype": "text/x-python",
   "name": "python",
   "nbconvert_exporter": "python",
   "pygments_lexer": "ipython2",
   "version": "2.7.11"
  }
 },
 "nbformat": 4,
 "nbformat_minor": 0
}
