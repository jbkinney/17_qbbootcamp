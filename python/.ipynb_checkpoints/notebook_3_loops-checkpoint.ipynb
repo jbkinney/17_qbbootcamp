{
 "cells": [
  {
   "cell_type": "code",
   "execution_count": 38,
   "metadata": {
    "collapsed": true
   },
   "outputs": [],
   "source": [
    "# Notebook 2: variables\n",
    "\n",
    "### by Justin B. Kinney"
   ]
  },
  {
   "cell_type": "code",
   "execution_count": 15,
   "metadata": {
    "collapsed": true
   },
   "outputs": [],
   "source": [
    "## QB Bootcamp Exercise 2\n",
    "################################################################################\n",
    "## In this exericse you will learn about using for loops to repeat instructions\n",
    "## multiple times"
   ]
  },
  {
   "cell_type": "code",
   "execution_count": 36,
   "metadata": {
    "collapsed": false
   },
   "outputs": [
    {
     "name": "stdout",
     "output_type": "stream",
     "text": [
      "Iteration 0: Hello, Jim!\n",
      "Iteration 1: Hello, Jim!\n",
      "Iteration 2: Hello, Jim!\n",
      "Iteration 3: Hello, Jim!\n",
      "Iteration 4: Hello, Jim!\n"
     ]
    }
   ],
   "source": [
    "## Lets say hello repeat times with a for loop\n",
    "## xrange iterates between 0 and repeat-1\n",
    "## Note: whitespace is required to show the body of a loop\n",
    "\n",
    "for x in range(5):\n",
    "    spacer = ' '*count\n",
    "    print \"Iteration %d: Hello, %sJim!\" % (x, spacer)\n"
   ]
  },
  {
   "cell_type": "code",
   "execution_count": 37,
   "metadata": {
    "collapsed": false
   },
   "outputs": [
    {
     "name": "stdout",
     "output_type": "stream",
     "text": [
      "Hello, Jim\n",
      "Hello, Justin\n",
      "Hello, Mickey\n",
      "Hello,  Jim\n",
      "Hello,  Justin\n",
      "Hello,  Mickey\n",
      "Hello,   Jim\n",
      "Hello,   Justin\n",
      "Hello,   Mickey\n",
      "Hello,    Jim\n",
      "Hello,    Justin\n",
      "Hello,    Mickey\n",
      "Hello,     Jim\n",
      "Hello,     Justin\n",
      "Hello,     Mickey\n"
     ]
    }
   ],
   "source": [
    "## Loops can also be nested (summing every value in a matrix)\n",
    "###############################################################################\n",
    "\n",
    "for x in range(repeat):\n",
    "    for name in ['Jim', 'Justin', 'Mickey']:\n",
    "        spacer = ' '*x\n",
    "        print \"Hello, %s%s\"%(spacer, name)\n"
   ]
  },
  {
   "cell_type": "code",
   "execution_count": null,
   "metadata": {
    "collapsed": true
   },
   "outputs": [],
   "source": [
    "###############################################################################\n",
    "###############################################################################\n",
    "\"\"\" Challenge question: How do I make this:\n",
    "\n",
    "Mike\n",
    "   Mike\n",
    "      Mike\n",
    "         Mike\n",
    "            Mike\n",
    "               Mike\n",
    "            Mike\n",
    "         Mike\n",
    "      Mike\n",
    "   Mike\n",
    "Mike\n",
    "   Mike\n",
    "      Mike\n",
    "         Mike\n",
    "            Mike\n",
    "               Mike\n",
    "            Mike\n",
    "         Mike\n",
    "      Mike\n",
    "   Mike\n",
    "Mike\n",
    "   Mike\n",
    "      Mike\n",
    "         Mike\n",
    "            Mike\n",
    "               Mike\n",
    "            Mike\n",
    "         Mike\n",
    "      Mike\n",
    "   Mike\n",
    "Mike\n",
    "   Mike\n",
    "      Mike\n",
    "         Mike\n",
    "            Mike\n",
    "               Mike\n",
    "            Mike\n",
    "         Mike\n",
    "      Mike\n",
    "   Mike\n",
    "Mike\n",
    "   Mike\n",
    "      Mike\n",
    "         Mike\n",
    "            Mike\n",
    "               Mike\n",
    "            Mike\n",
    "         Mike\n",
    "      Mike\n",
    "   Mike\n",
    "\n",
    "\"\"\"\n",
    "\n",
    "    \n",
    "    \n",
    "\n"
   ]
  }
 ],
 "metadata": {
  "kernelspec": {
   "display_name": "Python 2",
   "language": "python",
   "name": "python2"
  },
  "language_info": {
   "codemirror_mode": {
    "name": "ipython",
    "version": 2
   },
   "file_extension": ".py",
   "mimetype": "text/x-python",
   "name": "python",
   "nbconvert_exporter": "python",
   "pygments_lexer": "ipython2",
   "version": "2.7.11"
  }
 },
 "nbformat": 4,
 "nbformat_minor": 0
}
