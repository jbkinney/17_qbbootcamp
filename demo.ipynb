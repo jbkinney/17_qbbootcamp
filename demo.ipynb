{
 "cells": [
  {
   "cell_type": "markdown",
   "metadata": {},
   "source": [
    "# Demo iPython Notebook\n",
    "\n",
    "### by Justin B. Kinney"
   ]
  },
  {
   "cell_type": "markdown",
   "metadata": {},
   "source": [
    "## About Python"
   ]
  },
  {
   "cell_type": "markdown",
   "metadata": {},
   "source": [
    "Python is a very flexible language. You can use it to analyze data on the fly, write small analysis scripts, or write major software applications. I program almost exclusively in python in my day-to-day work. "
   ]
  },
  {
   "cell_type": "markdown",
   "metadata": {},
   "source": [
    "Python is a user-friendly language. It is designed for maximum readability. More than almost any language out there, valid python code looks like pseudocode. Many aspects of the language help to enforce clarity. There is also a set of convensions, called the PEP 8 Style Guide, that most programmers have adopted in order to make their code as clear as possible. I recommend trying to follow PEP 8 as much as possible, if only to make your code easier to decipher when you come back to it after a year or two of disuse. "
   ]
  },
  {
   "cell_type": "markdown",
   "metadata": {},
   "source": [
    "Python is a rapid prototyping language. It is designed to allow you to write programs as quickly and as painlessly as possible. One feature of Python that enables rapid prototyping is that it is an \"interpreted\" language: each line is executed by the Python \"interpreter\" one after the next. This is different than C, C++, or Java, which require that programs first be \"compiled\", i.e. translated in their entirety from code to byte code before they are run. "
   ]
  },
  {
   "cell_type": "markdown",
   "metadata": {},
   "source": [
    "Python is a very well-supported language. There is an enormous user base for python, and a large number of mature packages are now available for a wide variety of tasks. This was NOT the case 12 years ago when I first started learning Python. But now I am able to use Python for virtually all of my programming needs. And when I have a question about how to code something (which is about once every 2 minutes), Google is usually able to satisfy my question within a minute or two. "
   ]
  },
  {
   "cell_type": "markdown",
   "metadata": {},
   "source": [
    "The official python documentation page is https://www.python.org/. Lots of good documentation and tutorials can be found here. Another great resource for programmers is Stack Overflow at http://stackoverflow.com/. Just google a question about Python programming, and the first hit will likey be a post on Stack Overflow that answers your question. "
   ]
  },
  {
   "cell_type": "markdown",
   "metadata": {},
   "source": [
    "**Beware: There are 2 mutually incompatible versions of Python in widespread use: Python 2.7 and Python 3.6. Most packages have been written for 2.7, and this is the version used by most scientists. We will use 2.7 throughout this tutorial. Unless you know what you are doing, I suggest not even installing Python 3.6 on your computer.**"
   ]
  },
  {
   "cell_type": "markdown",
   "metadata": {},
   "source": [
    "## The IPython Notebook"
   ]
  },
  {
   "cell_type": "markdown",
   "metadata": {},
   "source": [
    "This is an **IPython Notebook**. You can learn more about these notebooks on the Jupyter project website, http://jupyter.org/. IPython notebooks provide a very conveneint interface to python. It allows you to include fully functional python code inside of a document that contains \"markdown\" (i.e. text like this) and figures that show analysis results. Note how the menu above allows use to specify whether each cell is a \"code\" cell (i.e. contains Python code) or a markdown cell. This type of hybrid document provides a very powerful method of interactive data anlysis. I strongly suggest using IPython Notebooks for most of your data anlysis tasks. Only when you start writing production code does it make sense to move away from the Notebook format. "
   ]
  },
  {
   "cell_type": "markdown",
   "metadata": {},
   "source": [
    "All of my IPython notebooks begin with the following series mysterious incantations. I will go through each of these lines later in the tutorial. In the mean time, it's best to just take the content of this cell on faith. Execute this code by clicking on it an pressing Shift+Enter. "
   ]
  },
  {
   "cell_type": "code",
   "execution_count": 1,
   "metadata": {
    "collapsed": true
   },
   "outputs": [],
   "source": [
    "# Always put this first\n",
    "%matplotlib inline\n",
    "from __future__ import division\n",
    "import numpy as np\n",
    "import pandas as pd\n",
    "import matplotlib.pyplot as plt"
   ]
  },
  {
   "cell_type": "markdown",
   "metadata": {},
   "source": [
    "The \"Hello World!\" program, used in many language tutorials to illusrate the simplest program, is indeed very simple. Here it is. Again, execute it by typing Shift+Enter"
   ]
  },
  {
   "cell_type": "code",
   "execution_count": 2,
   "metadata": {
    "collapsed": false
   },
   "outputs": [
    {
     "name": "stdout",
     "output_type": "stream",
     "text": [
      "Hello World!\n"
     ]
    }
   ],
   "source": [
    "print \"Hello World!\" # The Hello World program!"
   ]
  },
  {
   "cell_type": "markdown",
   "metadata": {},
   "source": [
    "All this program does is display the text \"Hello World!\". This is done using the print function. The text \"Hello World!\" is the function argument. The text itself is what is called a \"string\". Print is the single most useful function in python, allowing one to inspect the contents of many variables.\n",
    "\n",
    "The hash mark # signifies the beginning of a comment. All text following # on a line is ignored by the interpreter. \n",
    "\n",
    "You can also run commands at the command line by starting the command with '!'"
   ]
  },
  {
   "cell_type": "code",
   "execution_count": 3,
   "metadata": {
    "collapsed": false
   },
   "outputs": [
    {
     "name": "stdout",
     "output_type": "stream",
     "text": [
      "total 160496\r\n",
      "drwxr-xr-x  10 jkinney  staff   340B Sep  1 08:19 \u001b[1m\u001b[34m.\u001b[m\u001b[m\r\n",
      "drwxr-xr-x  24 jkinney  staff   816B Aug 24 15:26 \u001b[1m\u001b[34m..\u001b[m\u001b[m\r\n",
      "-rw-r--r--@  1 jkinney  staff   6.0K Aug 24 14:47 .DS_Store\r\n",
      "drwxr-xr-x  14 jkinney  staff   476B Sep  1  2016 \u001b[1m\u001b[34m.git\u001b[m\u001b[m\r\n",
      "drwxr-xr-x   2 jkinney  staff    68B Sep  1 08:19 \u001b[1m\u001b[34m.ipynb_checkpoints\u001b[m\u001b[m\r\n",
      "drwxr-xr-x@  7 jkinney  staff   238B Aug 31  2016 \u001b[1m\u001b[34mbash\u001b[m\u001b[m\r\n",
      "drwxr-x---  10 jkinney  staff   340B Sep  1  2016 \u001b[1m\u001b[34mbnb_exercise\u001b[m\u001b[m\r\n",
      "-rw-r--r--   1 jkinney  staff    78M Aug 24 14:52 bnb_exercise.tar.gz\r\n",
      "-rw-r--r--@  1 jkinney  staff   7.0K Aug 30 23:16 demo.ipynb\r\n",
      "drwxr-xr-x@ 15 jkinney  staff   510B Jul 13 08:24 \u001b[1m\u001b[34mpython\u001b[m\u001b[m\r\n"
     ]
    }
   ],
   "source": [
    "# List the files in the current directory (UNIX only)\n",
    "!ls -lah"
   ]
  },
  {
   "cell_type": "code",
   "execution_count": 5,
   "metadata": {
    "collapsed": false
   },
   "outputs": [
    {
     "data": {
      "text/plain": [
       "<matplotlib.text.Text at 0x10fd9dd10>"
      ]
     },
     "execution_count": 5,
     "metadata": {},
     "output_type": "execute_result"
    },
    {
     "data": {
      "image/png": "[encoded data removed]",
      "text/plain": [
       "<matplotlib.figure.Figure at 0x10fd7cf10>"
      ]
     },
     "metadata": {},
     "output_type": "display_data"
    }
   ],
   "source": [
    "# You can plot stuff in ipython notbook. Don't worry about the commands for now. \n",
    "x = np.arange(-10,10,0.01)\n",
    "y = np.sin(x)\n",
    "plt.plot(x,y)\n",
    "plt.xlabel('x')\n",
    "plt.ylabel('y = sin(x)')"
   ]
  },
  {
   "cell_type": "markdown",
   "metadata": {},
   "source": [
    "You can write in math markdown:\n",
    "\n",
    "$$y = \\sin x = x - \\frac{x^3}{3!} + \\frac{x^5}{5!} + \\cdots = \\sum_{n=0}^\\infty \\frac{x^{2n+1}}{(2n+1)!}$$"
   ]
  },
  {
   "cell_type": "code",
   "execution_count": null,
   "metadata": {
    "collapsed": true
   },
   "outputs": [],
   "source": []
  }
 ],
 "metadata": {
  "kernelspec": {
   "display_name": "Python 2",
   "language": "python",
   "name": "python2"
  },
  "language_info": {
   "codemirror_mode": {
    "name": "ipython",
    "version": 2
   },
   "file_extension": ".py",
   "mimetype": "text/x-python",
   "name": "python",
   "nbconvert_exporter": "python",
   "pygments_lexer": "ipython2",
   "version": "2.7.11"
  }
 },
 "nbformat": 4,
 "nbformat_minor": 0
}
